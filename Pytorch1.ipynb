{
  "nbformat": 4,
  "nbformat_minor": 0,
  "metadata": {
    "colab": {
      "provenance": []
    },
    "kernelspec": {
      "name": "python3",
      "display_name": "Python 3"
    },
    "language_info": {
      "name": "python"
    }
  },
  "cells": [
    {
      "cell_type": "markdown",
      "source": [
        "***REFERENCES:***\n",
        "* https://pytorch.org/docs/stable/tensors.html\n",
        "*  https://www.youtube.com/watch?v=Z_ikDlimN6A&t=73s"
      ],
      "metadata": {
        "id": "c5dMgwLFL7Oa"
      }
    },
    {
      "cell_type": "code",
      "execution_count": 2,
      "metadata": {
        "colab": {
          "base_uri": "https://localhost:8080/",
          "height": 36
        },
        "id": "XeaqJkzzjqD-",
        "outputId": "5a8749dc-ed6e-42f9-fd31-7f4ea441aeab"
      },
      "outputs": [
        {
          "output_type": "execute_result",
          "data": {
            "text/plain": [
              "'1.13.0+cu116'"
            ],
            "application/vnd.google.colaboratory.intrinsic+json": {
              "type": "string"
            }
          },
          "metadata": {},
          "execution_count": 2
        }
      ],
      "source": [
        "import torch\n",
        "torch.__version__"
      ]
    },
    {
      "cell_type": "markdown",
      "source": [
        "**Tensors represent data in a numerical way.**\n",
        "\n",
        "---\n",
        "\n",
        "\n",
        "the tensor would have three dimensions, one for colour_channels, height and width.\n",
        " [colour_channels, height, width]\n",
        "\n",
        "Whenever we use Pytorch we have to transform data to tensors."
      ],
      "metadata": {
        "id": "_BOC_LpDmldo"
      }
    },
    {
      "cell_type": "markdown",
      "source": [
        "**Create different types of tensors:**"
      ],
      "metadata": {
        "id": "JowI-YWWnliQ"
      }
    },
    {
      "cell_type": "markdown",
      "source": [
        "\n",
        "\n",
        "> scalar is a single number, it's of type torch.Tensor.\n",
        "\n"
      ],
      "metadata": {
        "id": "t3wkDmS5oPmk"
      }
    },
    {
      "cell_type": "code",
      "source": [
        "# 1ST TYPE: scalar()\n",
        "scalar = torch.tensor(20)\n",
        "scalar\n"
      ],
      "metadata": {
        "colab": {
          "base_uri": "https://localhost:8080/"
        },
        "id": "7qXi7wmmnrrW",
        "outputId": "9e191114-cb7e-41af-dff9-780bef79889d"
      },
      "execution_count": 3,
      "outputs": [
        {
          "output_type": "execute_result",
          "data": {
            "text/plain": [
              "tensor(20)"
            ]
          },
          "metadata": {},
          "execution_count": 3
        }
      ]
    },
    {
      "cell_type": "code",
      "source": [
        "scalar.type()"
      ],
      "metadata": {
        "colab": {
          "base_uri": "https://localhost:8080/",
          "height": 36
        },
        "id": "PZHITA7boiQy",
        "outputId": "e5bd26e1-790d-441c-bfb8-a934554a5c0b"
      },
      "execution_count": 4,
      "outputs": [
        {
          "output_type": "execute_result",
          "data": {
            "text/plain": [
              "'torch.LongTensor'"
            ],
            "application/vnd.google.colaboratory.intrinsic+json": {
              "type": "string"
            }
          },
          "metadata": {},
          "execution_count": 4
        }
      ]
    },
    {
      "cell_type": "code",
      "source": [
        "scalar.ndim"
      ],
      "metadata": {
        "colab": {
          "base_uri": "https://localhost:8080/"
        },
        "id": "y1v0IB0vxFBP",
        "outputId": "b8dce61f-a901-46bf-e5c3-369d2e934f5a"
      },
      "execution_count": 5,
      "outputs": [
        {
          "output_type": "execute_result",
          "data": {
            "text/plain": [
              "0"
            ]
          },
          "metadata": {},
          "execution_count": 5
        }
      ]
    },
    {
      "cell_type": "code",
      "source": [
        "scalar.shape"
      ],
      "metadata": {
        "colab": {
          "base_uri": "https://localhost:8080/"
        },
        "id": "mqWbpMU2w_Md",
        "outputId": "02357e3c-6f2b-48bf-e155-f6fe7aef4c77"
      },
      "execution_count": 6,
      "outputs": [
        {
          "output_type": "execute_result",
          "data": {
            "text/plain": [
              "torch.Size([])"
            ]
          },
          "metadata": {},
          "execution_count": 6
        }
      ]
    },
    {
      "cell_type": "code",
      "source": [
        "# Get the Python number within a tensor (only works with one-element tensors)\n",
        "scalar.item()"
      ],
      "metadata": {
        "colab": {
          "base_uri": "https://localhost:8080/"
        },
        "id": "bkaw_yS3opOr",
        "outputId": "c3f596ea-74d9-4834-cdc9-65a454057f65"
      },
      "execution_count": 7,
      "outputs": [
        {
          "output_type": "execute_result",
          "data": {
            "text/plain": [
              "20"
            ]
          },
          "metadata": {},
          "execution_count": 7
        }
      ]
    },
    {
      "cell_type": "markdown",
      "source": [
        "**A vector is a single dimension tensor but can contain many numbers.**"
      ],
      "metadata": {
        "id": "aL_49bm0wVWA"
      }
    },
    {
      "cell_type": "code",
      "source": [
        "# 2nd type: Vector()\n",
        "vector = torch.tensor([20,10,30])\n",
        "vector"
      ],
      "metadata": {
        "colab": {
          "base_uri": "https://localhost:8080/"
        },
        "id": "c_bxvYnKpGlS",
        "outputId": "c6480a3b-b9e1-4c2a-df08-801bfaba5a12"
      },
      "execution_count": 8,
      "outputs": [
        {
          "output_type": "execute_result",
          "data": {
            "text/plain": [
              "tensor([20, 10, 30])"
            ]
          },
          "metadata": {},
          "execution_count": 8
        }
      ]
    },
    {
      "cell_type": "code",
      "source": [
        "# Check the number of dimensions of vector\n",
        "vector.ndim\n"
      ],
      "metadata": {
        "colab": {
          "base_uri": "https://localhost:8080/"
        },
        "id": "CsdNfxTMv3mg",
        "outputId": "195855bc-248f-48d8-af2b-75934faa5da7"
      },
      "execution_count": 9,
      "outputs": [
        {
          "output_type": "execute_result",
          "data": {
            "text/plain": [
              "1"
            ]
          },
          "metadata": {},
          "execution_count": 9
        }
      ]
    },
    {
      "cell_type": "markdown",
      "source": [
        "The number of dimensions a tensor in PyTorch has by the number of square brackets on the outside ([)."
      ],
      "metadata": {
        "id": "2QbglTR1wFR0"
      }
    },
    {
      "cell_type": "code",
      "source": [
        "# Check shape of vector\n",
        "vector.shape"
      ],
      "metadata": {
        "colab": {
          "base_uri": "https://localhost:8080/"
        },
        "id": "pJRdy8MIv6Xt",
        "outputId": "81e9a0d7-43b7-4802-cab9-2f6c05129402"
      },
      "execution_count": 10,
      "outputs": [
        {
          "output_type": "execute_result",
          "data": {
            "text/plain": [
              "torch.Size([3])"
            ]
          },
          "metadata": {},
          "execution_count": 10
        }
      ]
    },
    {
      "cell_type": "markdown",
      "source": [
        "Because it contains 3 element."
      ],
      "metadata": {
        "id": "s77tcOWQwNEl"
      }
    },
    {
      "cell_type": "markdown",
      "source": [
        "**MATRIX has two dimensions**"
      ],
      "metadata": {
        "id": "JfXHpkQ6w29i"
      }
    },
    {
      "cell_type": "code",
      "source": [
        "#3rd type: MATRIX()\n",
        "\n",
        "MATRIX = torch.tensor([[20, 9], \n",
        "                       [5, 17]])\n",
        "MATRIX"
      ],
      "metadata": {
        "colab": {
          "base_uri": "https://localhost:8080/"
        },
        "id": "fTDImYtEwmpP",
        "outputId": "5527d7de-343c-494b-d09e-03d31ff699de"
      },
      "execution_count": 11,
      "outputs": [
        {
          "output_type": "execute_result",
          "data": {
            "text/plain": [
              "tensor([[20,  9],\n",
              "        [ 5, 17]])"
            ]
          },
          "metadata": {},
          "execution_count": 11
        }
      ]
    },
    {
      "cell_type": "code",
      "source": [
        "# Check number of dimensions\n",
        "MATRIX.ndim"
      ],
      "metadata": {
        "colab": {
          "base_uri": "https://localhost:8080/"
        },
        "id": "akoJCdK7wz3i",
        "outputId": "f3fd08b6-1f49-45e6-9f51-20f08daf178f"
      },
      "execution_count": 12,
      "outputs": [
        {
          "output_type": "execute_result",
          "data": {
            "text/plain": [
              "2"
            ]
          },
          "metadata": {},
          "execution_count": 12
        }
      ]
    },
    {
      "cell_type": "code",
      "source": [
        "MATRIX.shape"
      ],
      "metadata": {
        "colab": {
          "base_uri": "https://localhost:8080/"
        },
        "id": "cifi8BaNw66j",
        "outputId": "160af1cc-0b01-4a4b-a0cb-99ac4586806f"
      },
      "execution_count": 13,
      "outputs": [
        {
          "output_type": "execute_result",
          "data": {
            "text/plain": [
              "torch.Size([2, 2])"
            ]
          },
          "metadata": {},
          "execution_count": 13
        }
      ]
    },
    {
      "cell_type": "markdown",
      "source": [
        "Note: \n",
        "\n",
        "1.   Tensor can be scalar or Matrix or Vector.\n",
        "2.   Tensor can contain million of elements and to know the dimension just count how many square bracket or use the function: x.ndim. Tensor can be of n dimension.\n",
        "\n"
      ],
      "metadata": {
        "id": "pH_OAMewx0gm"
      }
    },
    {
      "cell_type": "code",
      "source": [
        "TENSOR = torch.tensor([[[16, 23, 43],\n",
        "                        [3, 5, 79],\n",
        "                        [1, 7, 8],\n",
        "                        [7, 65, 35]]])\n",
        "TENSOR"
      ],
      "metadata": {
        "colab": {
          "base_uri": "https://localhost:8080/"
        },
        "id": "GJRbsmE8ySwp",
        "outputId": "17ba5be0-bdf3-4e35-aa8d-9cc38a49a760"
      },
      "execution_count": 14,
      "outputs": [
        {
          "output_type": "execute_result",
          "data": {
            "text/plain": [
              "tensor([[[16, 23, 43],\n",
              "         [ 3,  5, 79],\n",
              "         [ 1,  7,  8],\n",
              "         [ 7, 65, 35]]])"
            ]
          },
          "metadata": {},
          "execution_count": 14
        }
      ]
    },
    {
      "cell_type": "code",
      "source": [
        "TENSOR.ndim\n",
        "#([[[== 3 square bracket"
      ],
      "metadata": {
        "colab": {
          "base_uri": "https://localhost:8080/"
        },
        "id": "Bw56n4ifyh2o",
        "outputId": "33aa76e5-457f-455a-839b-a45fd3c2e81a"
      },
      "execution_count": 15,
      "outputs": [
        {
          "output_type": "execute_result",
          "data": {
            "text/plain": [
              "3"
            ]
          },
          "metadata": {},
          "execution_count": 15
        }
      ]
    },
    {
      "cell_type": "code",
      "source": [
        "TENSOR.shape"
      ],
      "metadata": {
        "colab": {
          "base_uri": "https://localhost:8080/"
        },
        "id": "N2msBrwiyxms",
        "outputId": "94430c01-4910-4dad-f8fb-6570b7368082"
      },
      "execution_count": 16,
      "outputs": [
        {
          "output_type": "execute_result",
          "data": {
            "text/plain": [
              "torch.Size([1, 4, 3])"
            ]
          },
          "metadata": {},
          "execution_count": 16
        }
      ]
    },
    {
      "cell_type": "markdown",
      "source": [
        "**Random Tensor**"
      ],
      "metadata": {
        "id": "oFYHOkLo_Ydx"
      }
    },
    {
      "cell_type": "code",
      "source": [
        "# Create a random tensor of size (3,224, 224)\n",
        "#random tensor in the common image shape of [3,224, 224] ([color_channels,height, width])\n",
        "randomTensor_image_size = torch.rand(size=(3,224, 224))\n",
        "randomTensor_image_size.shape\n"
      ],
      "metadata": {
        "colab": {
          "base_uri": "https://localhost:8080/"
        },
        "id": "plcoHk-czYau",
        "outputId": "6742bccb-9b31-4194-d0fc-e232e6735f06"
      },
      "execution_count": 17,
      "outputs": [
        {
          "output_type": "execute_result",
          "data": {
            "text/plain": [
              "torch.Size([3, 224, 224])"
            ]
          },
          "metadata": {},
          "execution_count": 17
        }
      ]
    },
    {
      "cell_type": "code",
      "source": [
        "randomTensor_image_size"
      ],
      "metadata": {
        "colab": {
          "base_uri": "https://localhost:8080/"
        },
        "id": "s-tIGQkTCR0B",
        "outputId": "af0e2d11-ff08-4ed7-b8f3-127293475a04"
      },
      "execution_count": 18,
      "outputs": [
        {
          "output_type": "execute_result",
          "data": {
            "text/plain": [
              "tensor([[[0.6908, 0.0948, 0.4405,  ..., 0.7476, 0.7407, 0.8593],\n",
              "         [0.3423, 0.5680, 0.6197,  ..., 0.1313, 0.9550, 0.2276],\n",
              "         [0.4312, 0.4067, 0.9143,  ..., 0.8965, 0.4876, 0.3918],\n",
              "         ...,\n",
              "         [0.1814, 0.8973, 0.2163,  ..., 0.9625, 0.3806, 0.8965],\n",
              "         [0.9859, 0.6149, 0.8981,  ..., 0.8328, 0.8494, 0.6158],\n",
              "         [0.0205, 0.8073, 0.0371,  ..., 0.5563, 0.3387, 0.2999]],\n",
              "\n",
              "        [[0.1912, 0.6265, 0.9352,  ..., 0.1523, 0.2111, 0.7569],\n",
              "         [0.3006, 0.0367, 0.2365,  ..., 0.4107, 0.0351, 0.1529],\n",
              "         [0.0768, 0.1104, 0.1971,  ..., 0.4538, 0.0517, 0.7402],\n",
              "         ...,\n",
              "         [0.4734, 0.1833, 0.6421,  ..., 0.9678, 0.6354, 0.6597],\n",
              "         [0.3546, 0.1927, 0.9163,  ..., 0.2143, 0.5657, 0.0334],\n",
              "         [0.9177, 0.5564, 0.8333,  ..., 0.5703, 0.7532, 0.8519]],\n",
              "\n",
              "        [[0.5405, 0.0096, 0.0106,  ..., 0.5807, 0.9451, 0.0109],\n",
              "         [0.4745, 0.1677, 0.6304,  ..., 0.1059, 0.0812, 0.9104],\n",
              "         [0.9268, 0.9508, 0.1982,  ..., 0.3496, 0.4896, 0.4621],\n",
              "         ...,\n",
              "         [0.2738, 0.6434, 0.1651,  ..., 0.4354, 0.8187, 0.0073],\n",
              "         [0.1257, 0.0042, 0.2253,  ..., 0.7198, 0.3991, 0.1362],\n",
              "         [0.5365, 0.6035, 0.1730,  ..., 0.1837, 0.2656, 0.5445]]])"
            ]
          },
          "metadata": {},
          "execution_count": 18
        }
      ]
    },
    {
      "cell_type": "code",
      "source": [
        "randomTensor_image_size.ndim"
      ],
      "metadata": {
        "colab": {
          "base_uri": "https://localhost:8080/"
        },
        "id": "rm1eHNhu_2AX",
        "outputId": "b7337b3d-1d75-4e05-cc41-8a1a4871b5a0"
      },
      "execution_count": 19,
      "outputs": [
        {
          "output_type": "execute_result",
          "data": {
            "text/plain": [
              "3"
            ]
          },
          "metadata": {},
          "execution_count": 19
        }
      ]
    },
    {
      "cell_type": "markdown",
      "source": [
        "**Zeros and ones tensor**"
      ],
      "metadata": {
        "id": "lJmxLCxuBH7p"
      }
    },
    {
      "cell_type": "markdown",
      "source": [
        "\n",
        "Useful when we ant to use mask: masking some of the values in one tensor with zeros to make a model know that it should not learn them.\n",
        "\n"
      ],
      "metadata": {
        "id": "6MeTycakBNIR"
      }
    },
    {
      "cell_type": "code",
      "source": [
        "# Create a tensor of all zeros\n",
        "zeros = torch.zeros(size=(2, 3))\n",
        "zeros"
      ],
      "metadata": {
        "colab": {
          "base_uri": "https://localhost:8080/"
        },
        "id": "bw6lEnoZBpSB",
        "outputId": "f30acf78-5f72-42ed-beb1-0044a1cc16a5"
      },
      "execution_count": 20,
      "outputs": [
        {
          "output_type": "execute_result",
          "data": {
            "text/plain": [
              "tensor([[0., 0., 0.],\n",
              "        [0., 0., 0.]])"
            ]
          },
          "metadata": {},
          "execution_count": 20
        }
      ]
    },
    {
      "cell_type": "code",
      "source": [
        "# Create a tensor of all ones\n",
        "ones = torch.ones(size=(2, 3))\n",
        "ones"
      ],
      "metadata": {
        "colab": {
          "base_uri": "https://localhost:8080/"
        },
        "id": "F8GrySEeBxxb",
        "outputId": "9b19dab4-f875-4b8d-b3fa-4fa876b1a38d"
      },
      "execution_count": 21,
      "outputs": [
        {
          "output_type": "execute_result",
          "data": {
            "text/plain": [
              "tensor([[1., 1., 1.],\n",
              "        [1., 1., 1.]])"
            ]
          },
          "metadata": {},
          "execution_count": 21
        }
      ]
    },
    {
      "cell_type": "code",
      "source": [
        "ones.dtype"
      ],
      "metadata": {
        "colab": {
          "base_uri": "https://localhost:8080/"
        },
        "id": "JOXfzqojB3H6",
        "outputId": "d6c003a3-e875-450f-8a02-9998913566ff"
      },
      "execution_count": 22,
      "outputs": [
        {
          "output_type": "execute_result",
          "data": {
            "text/plain": [
              "torch.float32"
            ]
          },
          "metadata": {},
          "execution_count": 22
        }
      ]
    },
    {
      "cell_type": "code",
      "source": [
        "#example of masking:\n",
        "zeros_F_col=torch.zeros(4,1)\n",
        "zeros_F_col"
      ],
      "metadata": {
        "colab": {
          "base_uri": "https://localhost:8080/"
        },
        "id": "HuVMNje4CDW4",
        "outputId": "ab677415-2747-49e0-c0af-3f80e69ba723"
      },
      "execution_count": 23,
      "outputs": [
        {
          "output_type": "execute_result",
          "data": {
            "text/plain": [
              "tensor([[0.],\n",
              "        [0.],\n",
              "        [0.],\n",
              "        [0.]])"
            ]
          },
          "metadata": {},
          "execution_count": 23
        }
      ]
    },
    {
      "cell_type": "code",
      "source": [
        "TENSOR"
      ],
      "metadata": {
        "colab": {
          "base_uri": "https://localhost:8080/"
        },
        "id": "tPWSg7vqDTwe",
        "outputId": "a65dc401-b9d4-4f4d-b8d0-295d59b116e1"
      },
      "execution_count": 24,
      "outputs": [
        {
          "output_type": "execute_result",
          "data": {
            "text/plain": [
              "tensor([[[16, 23, 43],\n",
              "         [ 3,  5, 79],\n",
              "         [ 1,  7,  8],\n",
              "         [ 7, 65, 35]]])"
            ]
          },
          "metadata": {},
          "execution_count": 24
        }
      ]
    },
    {
      "cell_type": "code",
      "source": [
        "maskingF_col=zeros_F_col*TENSOR\n",
        "maskingF_col"
      ],
      "metadata": {
        "colab": {
          "base_uri": "https://localhost:8080/"
        },
        "id": "C3D1xh-yCeBI",
        "outputId": "79fc573f-d813-47d5-b386-03070d29cf77"
      },
      "execution_count": 25,
      "outputs": [
        {
          "output_type": "execute_result",
          "data": {
            "text/plain": [
              "tensor([[[0., 0., 0.],\n",
              "         [0., 0., 0.],\n",
              "         [0., 0., 0.],\n",
              "         [0., 0., 0.]]])"
            ]
          },
          "metadata": {},
          "execution_count": 25
        }
      ]
    },
    {
      "cell_type": "markdown",
      "source": [
        "**Range and zeros_like**"
      ],
      "metadata": {
        "id": "WwnTe60jGPn_"
      }
    },
    {
      "cell_type": "code",
      "source": [
        "# Create a range of values 0 to 10\n",
        "tensor_arange = torch.arange(start=0, end=10, step=1)\n",
        "tensor_arange"
      ],
      "metadata": {
        "colab": {
          "base_uri": "https://localhost:8080/"
        },
        "id": "x6Jw75VQGNHh",
        "outputId": "01a8d5da-c991-426b-fa4a-779c184b54ba"
      },
      "execution_count": 26,
      "outputs": [
        {
          "output_type": "execute_result",
          "data": {
            "text/plain": [
              "tensor([0, 1, 2, 3, 4, 5, 6, 7, 8, 9])"
            ]
          },
          "metadata": {},
          "execution_count": 26
        }
      ]
    },
    {
      "cell_type": "code",
      "source": [
        "# Tensor of zeros similar to another tensor\n",
        "#similar means will have same shape\n",
        "tensor_zeros = torch.zeros_like(input=tensor_arange)\n",
        "tensor_zeros"
      ],
      "metadata": {
        "colab": {
          "base_uri": "https://localhost:8080/"
        },
        "id": "p3i0c0y6GUAX",
        "outputId": "608e3e34-157c-4937-a33b-c24145f33272"
      },
      "execution_count": 27,
      "outputs": [
        {
          "output_type": "execute_result",
          "data": {
            "text/plain": [
              "tensor([0, 0, 0, 0, 0, 0, 0, 0, 0, 0])"
            ]
          },
          "metadata": {},
          "execution_count": 27
        }
      ]
    },
    {
      "cell_type": "markdown",
      "source": [
        "**Pytorch data types:**\n",
        "\n",
        "\n"
      ],
      "metadata": {
        "id": "c8eWtGmpI-MC"
      }
    },
    {
      "cell_type": "markdown",
      "source": [
        "Tensor data type is one of the important error that we can get while doing operation on tensors:\n",
        "* Tesors not in right data type.what datatype are the elements within the tensor stored in.\n",
        "* Tensors not in right shape.what shape is the tensor? (some operations require specific shape rules).\n",
        "* Tensors not in right device. what device is the tensor stored on? (usually GPU or CPU).\n"
      ],
      "metadata": {
        "id": "vlrQo5_xJSOh"
      }
    },
    {
      "cell_type": "code",
      "source": [
        "# Default datatype for tensors is float32\n",
        "float32_tensor = torch.tensor([3.0, 6.0, 9.0],\n",
        "                               dtype=None, # defaults to None, which is torch.float32 or the datatype passed\n",
        "                               device=None, # defaults to None, which uses the default tensor type\n",
        "                               requires_grad=False) # if True, operations perfromed on the tensor are recorded \n",
        "\n",
        "float32_tensor"
      ],
      "metadata": {
        "colab": {
          "base_uri": "https://localhost:8080/"
        },
        "id": "V4ElAFymJEIe",
        "outputId": "d6140c3d-3961-4f96-92ff-b22f3fe8b342"
      },
      "execution_count": 28,
      "outputs": [
        {
          "output_type": "execute_result",
          "data": {
            "text/plain": [
              "tensor([3., 6., 9.])"
            ]
          },
          "metadata": {},
          "execution_count": 28
        }
      ]
    },
    {
      "cell_type": "code",
      "source": [
        " float32_tensor.dtype"
      ],
      "metadata": {
        "colab": {
          "base_uri": "https://localhost:8080/"
        },
        "id": "dUcHMQ97LOP6",
        "outputId": "4022de10-fd41-4c6b-a7a3-b11ad049daa6"
      },
      "execution_count": 29,
      "outputs": [
        {
          "output_type": "execute_result",
          "data": {
            "text/plain": [
              "torch.float32"
            ]
          },
          "metadata": {},
          "execution_count": 29
        }
      ]
    },
    {
      "cell_type": "code",
      "source": [
        "float32_tensor.shape"
      ],
      "metadata": {
        "colab": {
          "base_uri": "https://localhost:8080/"
        },
        "id": "XsQ06jXRLHwk",
        "outputId": "15d13535-39aa-4744-b27e-792dfd541af0"
      },
      "execution_count": 30,
      "outputs": [
        {
          "output_type": "execute_result",
          "data": {
            "text/plain": [
              "torch.Size([3])"
            ]
          },
          "metadata": {},
          "execution_count": 30
        }
      ]
    },
    {
      "cell_type": "markdown",
      "source": [
        "**Changing type of tensor**"
      ],
      "metadata": {
        "id": "BHG8t8HVKqDF"
      }
    },
    {
      "cell_type": "code",
      "source": [
        "float64_tensor=float32_tensor.type(torch.float64)\n",
        "float64_tensor"
      ],
      "metadata": {
        "colab": {
          "base_uri": "https://localhost:8080/"
        },
        "id": "XCbd7BnLKt_f",
        "outputId": "f890d585-022c-4195-9f4b-cf87061368b8"
      },
      "execution_count": 31,
      "outputs": [
        {
          "output_type": "execute_result",
          "data": {
            "text/plain": [
              "tensor([3., 6., 9.], dtype=torch.float64)"
            ]
          },
          "metadata": {},
          "execution_count": 31
        }
      ]
    },
    {
      "cell_type": "code",
      "source": [
        "float16=torch.tensor( [3.0, 6.0, 9.0],\n",
        "                               dtype=torch.float16,\n",
        "                               device=None, \n",
        "                               requires_grad=False)"
      ],
      "metadata": {
        "id": "TwMurhzuMhuI"
      },
      "execution_count": 32,
      "outputs": []
    },
    {
      "cell_type": "code",
      "source": [
        "float64_tensor*float16\n",
        "#Here it works without generating an error but may be in big neural network it will generate an error"
      ],
      "metadata": {
        "colab": {
          "base_uri": "https://localhost:8080/"
        },
        "id": "tJao5y-BNTTV",
        "outputId": "36aaa06f-6d33-4416-c23a-615ef5359e52"
      },
      "execution_count": 33,
      "outputs": [
        {
          "output_type": "execute_result",
          "data": {
            "text/plain": [
              "tensor([ 9., 36., 81.], dtype=torch.float64)"
            ]
          },
          "metadata": {},
          "execution_count": 33
        }
      ]
    },
    {
      "cell_type": "code",
      "source": [
        "float64_tensor.device,float64_tensor.shape,float64_tensor.dtype"
      ],
      "metadata": {
        "colab": {
          "base_uri": "https://localhost:8080/"
        },
        "id": "Vsp9xWHjYevs",
        "outputId": "f0d87026-fe0c-4969-8b3b-7833b04827e8"
      },
      "execution_count": 34,
      "outputs": [
        {
          "output_type": "execute_result",
          "data": {
            "text/plain": [
              "(device(type='cpu'), torch.Size([3]), torch.float64)"
            ]
          },
          "metadata": {},
          "execution_count": 34
        }
      ]
    },
    {
      "cell_type": "markdown",
      "source": [
        "**Basic operations**\n"
      ],
      "metadata": {
        "id": "hKDVrbrqI6Nx"
      }
    },
    {
      "cell_type": "code",
      "source": [
        "# Create a tensor of values and add a number to it\n",
        "tensor = torch.tensor([1, 2, 3])\n",
        "#Addition\n",
        "tensor + 5"
      ],
      "metadata": {
        "colab": {
          "base_uri": "https://localhost:8080/"
        },
        "id": "O2-b45fVI4NJ",
        "outputId": "3156bb4e-4e8a-426a-a9c5-65e9dfe7341c"
      },
      "execution_count": 35,
      "outputs": [
        {
          "output_type": "execute_result",
          "data": {
            "text/plain": [
              "tensor([6, 7, 8])"
            ]
          },
          "metadata": {},
          "execution_count": 35
        }
      ]
    },
    {
      "cell_type": "code",
      "source": [
        "#Multiplication\n",
        "tensor * 5"
      ],
      "metadata": {
        "colab": {
          "base_uri": "https://localhost:8080/"
        },
        "id": "GxvGHEQ9lt8S",
        "outputId": "8242012b-886b-4079-878f-196ec18c5520"
      },
      "execution_count": 36,
      "outputs": [
        {
          "output_type": "execute_result",
          "data": {
            "text/plain": [
              "tensor([ 5, 10, 15])"
            ]
          },
          "metadata": {},
          "execution_count": 36
        }
      ]
    },
    {
      "cell_type": "code",
      "source": [
        "# Can also use torch functions\n",
        "torch.multiply(tensor, 5)"
      ],
      "metadata": {
        "colab": {
          "base_uri": "https://localhost:8080/"
        },
        "id": "Rq0hTHzUmIaF",
        "outputId": "6842f100-e6c3-4ceb-c82e-d7e6d1629b2d"
      },
      "execution_count": 37,
      "outputs": [
        {
          "output_type": "execute_result",
          "data": {
            "text/plain": [
              "tensor([ 5, 10, 15])"
            ]
          },
          "metadata": {},
          "execution_count": 37
        }
      ]
    },
    {
      "cell_type": "markdown",
      "source": [
        "Here either we use (*) or multiply function gives the same result."
      ],
      "metadata": {
        "id": "alWeCs2AJYF5"
      }
    },
    {
      "cell_type": "markdown",
      "source": [
        "**Matrix multiplication:**\n",
        "* Pay attention to the shape of matrices.(x,y)*(y,z) \n",
        "* tensor * tensor will generate element wise multiplication. \n",
        "* tensor.matmul(tensor) will generate matrix multiplication.(like dot product)"
      ],
      "metadata": {
        "id": "Cuty8YP4KUxF"
      }
    },
    {
      "cell_type": "code",
      "source": [
        "# Element-wise matrix multiplication\n",
        "tensor * tensor\n"
      ],
      "metadata": {
        "colab": {
          "base_uri": "https://localhost:8080/"
        },
        "id": "NqEVX7x1Yilw",
        "outputId": "967a6ff0-c69f-45f3-8b65-61a281b7b452"
      },
      "execution_count": 38,
      "outputs": [
        {
          "output_type": "execute_result",
          "data": {
            "text/plain": [
              "tensor([1, 4, 9])"
            ]
          },
          "metadata": {},
          "execution_count": 38
        }
      ]
    },
    {
      "cell_type": "code",
      "source": [
        "# Matrix multiplication\n",
        "#(1*1)+(2*2)+(3*3)\n",
        "#1st method:\n",
        "torch.matmul(tensor, tensor)"
      ],
      "metadata": {
        "colab": {
          "base_uri": "https://localhost:8080/"
        },
        "id": "EhHMK5BgLHgS",
        "outputId": "1f888f97-5319-479b-fe76-a22bd969f26e"
      },
      "execution_count": 39,
      "outputs": [
        {
          "output_type": "execute_result",
          "data": {
            "text/plain": [
              "tensor(14)"
            ]
          },
          "metadata": {},
          "execution_count": 39
        }
      ]
    },
    {
      "cell_type": "code",
      "source": [
        "#2nd method:\n",
        "tensor @ tensor"
      ],
      "metadata": {
        "colab": {
          "base_uri": "https://localhost:8080/"
        },
        "id": "5MjBTEf8Lq7Z",
        "outputId": "6670a84f-78d5-45db-c504-621559836ab8"
      },
      "execution_count": 40,
      "outputs": [
        {
          "output_type": "execute_result",
          "data": {
            "text/plain": [
              "tensor(14)"
            ]
          },
          "metadata": {},
          "execution_count": 40
        }
      ]
    },
    {
      "cell_type": "markdown",
      "source": [
        "**Solving tghe error of shape in multiplication: Transpose()**"
      ],
      "metadata": {
        "id": "OYb7wvqIX2jT"
      }
    },
    {
      "cell_type": "code",
      "source": [
        "# Shapes need to be in the right way  \n",
        "tensor_X = torch.tensor([[14, 21],\n",
        "                         [8, 7],\n",
        "                         [20, 6]], dtype=torch.float32)\n",
        "\n",
        "tensor_Y = torch.tensor([[3, 3],\n",
        "                         [2, 5], \n",
        "                         [5, 6]], dtype=torch.float32)\n",
        "\n"
      ],
      "metadata": {
        "id": "gFFRUJIbL22c"
      },
      "execution_count": 46,
      "outputs": []
    },
    {
      "cell_type": "code",
      "source": [
        "print(tensor_X.shape)\n",
        "print(tensor_Y.shape)"
      ],
      "metadata": {
        "colab": {
          "base_uri": "https://localhost:8080/"
        },
        "id": "zy0lJO26YPC-",
        "outputId": "4f513be6-d756-4b74-d7ce-7002c94b4d41"
      },
      "execution_count": 47,
      "outputs": [
        {
          "output_type": "stream",
          "name": "stdout",
          "text": [
            "torch.Size([3, 2])\n",
            "torch.Size([3, 2])\n"
          ]
        }
      ]
    },
    {
      "cell_type": "code",
      "source": [
        "# We need to convert B to Transpose B to implement the multiplication\n",
        "print(tensor_X.shape)\n",
        "print(tensor_Y.T.shape)"
      ],
      "metadata": {
        "colab": {
          "base_uri": "https://localhost:8080/"
        },
        "id": "nRb528AyYWly",
        "outputId": "d56c0390-e6f9-4038-e434-aa97a135ac84"
      },
      "execution_count": 48,
      "outputs": [
        {
          "output_type": "stream",
          "name": "stdout",
          "text": [
            "torch.Size([3, 2])\n",
            "torch.Size([2, 3])\n"
          ]
        }
      ]
    },
    {
      "cell_type": "code",
      "source": [
        "torch.mm(tensor_X,tensor_Y.T)\n",
        "#mm is a short of mutmul"
      ],
      "metadata": {
        "colab": {
          "base_uri": "https://localhost:8080/"
        },
        "id": "BDbxV9a3YmgV",
        "outputId": "5f857541-4356-4899-c4ee-17c81c531bac"
      },
      "execution_count": 50,
      "outputs": [
        {
          "output_type": "execute_result",
          "data": {
            "text/plain": [
              "tensor([[105., 133., 196.],\n",
              "        [ 45.,  51.,  82.],\n",
              "        [ 78.,  70., 136.]])"
            ]
          },
          "metadata": {},
          "execution_count": 50
        }
      ]
    },
    {
      "cell_type": "markdown",
      "source": [
        "**Aggregation function in pytorch**\n",
        "* **Note:** when we use the mean function we may have dtype error so we have to change the data type to float when we use it."
      ],
      "metadata": {
        "id": "Z6nUzdhSbT8u"
      }
    },
    {
      "cell_type": "code",
      "source": [
        "tensor_X_Agg= torch.tensor([[14, 21],\n",
        "                         [8, 7],\n",
        "                         [20, 6]])"
      ],
      "metadata": {
        "id": "6AF82xNCbw6j"
      },
      "execution_count": 51,
      "outputs": []
    },
    {
      "cell_type": "code",
      "source": [
        "torch.mean(tensor_X_Agg)"
      ],
      "metadata": {
        "colab": {
          "base_uri": "https://localhost:8080/",
          "height": 172
        },
        "id": "CJ4jBzNDb7dy",
        "outputId": "2d0bb6c4-a54a-4623-cccc-a362cce24678"
      },
      "execution_count": 52,
      "outputs": [
        {
          "output_type": "error",
          "ename": "RuntimeError",
          "evalue": "ignored",
          "traceback": [
            "\u001b[0;31m---------------------------------------------------------------------------\u001b[0m",
            "\u001b[0;31mRuntimeError\u001b[0m                              Traceback (most recent call last)",
            "\u001b[0;32m<ipython-input-52-572124890908>\u001b[0m in \u001b[0;36m<module>\u001b[0;34m\u001b[0m\n\u001b[0;32m----> 1\u001b[0;31m \u001b[0mtorch\u001b[0m\u001b[0;34m.\u001b[0m\u001b[0mmean\u001b[0m\u001b[0;34m(\u001b[0m\u001b[0mtensor_X_Agg\u001b[0m\u001b[0;34m)\u001b[0m\u001b[0;34m\u001b[0m\u001b[0;34m\u001b[0m\u001b[0m\n\u001b[0m",
            "\u001b[0;31mRuntimeError\u001b[0m: mean(): could not infer output dtype. Input dtype must be either a floating point or complex dtype. Got: Long"
          ]
        }
      ]
    },
    {
      "cell_type": "code",
      "source": [
        "torch.mean(tensor_X_Agg.type(torch.float32))"
      ],
      "metadata": {
        "colab": {
          "base_uri": "https://localhost:8080/"
        },
        "id": "J2LCbr-KcClQ",
        "outputId": "79e15aa7-699f-47ba-ffab-4c6401164636"
      },
      "execution_count": 53,
      "outputs": [
        {
          "output_type": "execute_result",
          "data": {
            "text/plain": [
              "tensor(12.6667)"
            ]
          },
          "metadata": {},
          "execution_count": 53
        }
      ]
    },
    {
      "cell_type": "code",
      "source": [
        "torch.min(tensor_X_Agg),torch.max(tensor_X_Agg),torch.sum(tensor_X_Agg)"
      ],
      "metadata": {
        "colab": {
          "base_uri": "https://localhost:8080/"
        },
        "id": "oubLdWG_cPpH",
        "outputId": "a2673c87-7ec8-4775-c135-b206b194b788"
      },
      "execution_count": 55,
      "outputs": [
        {
          "output_type": "execute_result",
          "data": {
            "text/plain": [
              "(tensor(6), tensor(21), tensor(76))"
            ]
          },
          "metadata": {},
          "execution_count": 55
        }
      ]
    },
    {
      "cell_type": "code",
      "source": [
        "tensor_X_Agg"
      ],
      "metadata": {
        "colab": {
          "base_uri": "https://localhost:8080/"
        },
        "id": "cdALw0YddFH9",
        "outputId": "92c299f3-72e7-47ae-d1de-5bd6342a2038"
      },
      "execution_count": 57,
      "outputs": [
        {
          "output_type": "execute_result",
          "data": {
            "text/plain": [
              "tensor([[14, 21],\n",
              "        [ 8,  7],\n",
              "        [20,  6]])"
            ]
          },
          "metadata": {},
          "execution_count": 57
        }
      ]
    },
    {
      "cell_type": "code",
      "source": [
        "#Argmin() Argmax() position of min value and max value\n",
        "torch.argmin(tensor_X_Agg),torch.argmax(tensor_X_Agg)"
      ],
      "metadata": {
        "colab": {
          "base_uri": "https://localhost:8080/"
        },
        "id": "ghKg7lQOcu_W",
        "outputId": "5e64a1ad-fe73-4f30-d6fa-cbcd40f87ee2"
      },
      "execution_count": 56,
      "outputs": [
        {
          "output_type": "execute_result",
          "data": {
            "text/plain": [
              "(tensor(5), tensor(1))"
            ]
          },
          "metadata": {},
          "execution_count": 56
        }
      ]
    },
    {
      "cell_type": "markdown",
      "source": [
        "**Manipulating tensors shape:**"
      ],
      "metadata": {
        "id": "cp6WAyf2jEMl"
      }
    },
    {
      "cell_type": "markdown",
      "source": [
        "* **torch.reshape(input, shape):** Reshapes input to shape (the new shape should be the same as the original).\n",
        "\n",
        "* **torch.Tensor.view(shape):**Returns a view of the original tensor in a different shape but shares the same data as the original tensor.\n",
        "\n",
        "* **torch.permute(input, dims):**Returns a view of the original input with its dimensions permuted (rearranged) to dims.\n",
        "\n",
        "* **torch.stack(tensors, dim=0):**Concatenates a sequence of tensors along a new dimension (dim), all tensors must be same size.\n",
        "\n",
        "* **torch.squeeze(input):**Squeezes input to remove all the dimenions with value 1.\n",
        "\n",
        "* **torch.unsqueeze(input, dim):**Returns input with a dimension value of 1 added at dim."
      ],
      "metadata": {
        "id": "nxmsuOJhjdbm"
      }
    },
    {
      "cell_type": "code",
      "source": [
        "x = torch.arange(1, 10)\n",
        "x, x.shape"
      ],
      "metadata": {
        "colab": {
          "base_uri": "https://localhost:8080/"
        },
        "id": "dgXDxJR5kvwQ",
        "outputId": "59d7da52-8476-43de-c560-75296c635750"
      },
      "execution_count": 58,
      "outputs": [
        {
          "output_type": "execute_result",
          "data": {
            "text/plain": [
              "(tensor([1, 2, 3, 4, 5, 6, 7, 8, 9]), torch.Size([9]))"
            ]
          },
          "metadata": {},
          "execution_count": 58
        }
      ]
    },
    {
      "cell_type": "code",
      "source": [
        "x_reshaped = x.reshape(1, 9)\n",
        "x_reshaped, x_reshaped.shape"
      ],
      "metadata": {
        "colab": {
          "base_uri": "https://localhost:8080/"
        },
        "id": "_siX0vo6jLOM",
        "outputId": "f2a3706a-402b-4ada-f18c-72f732986e37"
      },
      "execution_count": 60,
      "outputs": [
        {
          "output_type": "execute_result",
          "data": {
            "text/plain": [
              "(tensor([[1, 2, 3, 4, 5, 6, 7, 8, 9]]), torch.Size([1, 9]))"
            ]
          },
          "metadata": {},
          "execution_count": 60
        }
      ]
    },
    {
      "cell_type": "code",
      "source": [
        "#view (keeps same data as original but changes view) the view share the same memory as the original.\n",
        "x_view = x.view(1, 9)\n",
        "x_view,x_view.shape"
      ],
      "metadata": {
        "colab": {
          "base_uri": "https://localhost:8080/"
        },
        "id": "MEf-Q6itlWhq",
        "outputId": "ba2f01d9-7b32-470b-b392-2aabe2df6461"
      },
      "execution_count": 63,
      "outputs": [
        {
          "output_type": "execute_result",
          "data": {
            "text/plain": [
              "(tensor([[1, 2, 3, 4, 5, 6, 7, 8, 9]]), torch.Size([1, 9]))"
            ]
          },
          "metadata": {},
          "execution_count": 63
        }
      ]
    },
    {
      "cell_type": "code",
      "source": [
        "#Stacking the tensors vertically and horizontally\n",
        "x_stacked_ver = torch.stack([x, x, x], dim=0) \n",
        "x_stacked_ver"
      ],
      "metadata": {
        "colab": {
          "base_uri": "https://localhost:8080/"
        },
        "id": "ufDM-BcKm16n",
        "outputId": "95722eae-8106-41bf-f901-a492f6eab4a7"
      },
      "execution_count": 66,
      "outputs": [
        {
          "output_type": "execute_result",
          "data": {
            "text/plain": [
              "tensor([[1, 2, 3, 4, 5, 6, 7, 8, 9],\n",
              "        [1, 2, 3, 4, 5, 6, 7, 8, 9],\n",
              "        [1, 2, 3, 4, 5, 6, 7, 8, 9]])"
            ]
          },
          "metadata": {},
          "execution_count": 66
        }
      ]
    },
    {
      "cell_type": "code",
      "source": [
        "x_stacked_hor = torch.stack([x, x, x], dim=1) \n",
        "x_stacked_hor"
      ],
      "metadata": {
        "colab": {
          "base_uri": "https://localhost:8080/"
        },
        "id": "vnrWl3N4nLr0",
        "outputId": "9dcd8aa5-1b26-4e52-d689-27dba5859713"
      },
      "execution_count": 67,
      "outputs": [
        {
          "output_type": "execute_result",
          "data": {
            "text/plain": [
              "tensor([[1, 1, 1],\n",
              "        [2, 2, 2],\n",
              "        [3, 3, 3],\n",
              "        [4, 4, 4],\n",
              "        [5, 5, 5],\n",
              "        [6, 6, 6],\n",
              "        [7, 7, 7],\n",
              "        [8, 8, 8],\n",
              "        [9, 9, 9]])"
            ]
          },
          "metadata": {},
          "execution_count": 67
        }
      ]
    },
    {
      "cell_type": "code",
      "source": [
        "#squeeze() remove all 1d element\n",
        "X=torch.zeros(2,3)\n",
        "X,x.shape"
      ],
      "metadata": {
        "colab": {
          "base_uri": "https://localhost:8080/"
        },
        "id": "dCM0WXVRn74z",
        "outputId": "105f44cf-4d10-4d6e-bed4-32caf137ee17"
      },
      "execution_count": 74,
      "outputs": [
        {
          "output_type": "execute_result",
          "data": {
            "text/plain": [
              "(tensor([[0., 0., 0.],\n",
              "         [0., 0., 0.]]), torch.Size([9]))"
            ]
          },
          "metadata": {},
          "execution_count": 74
        }
      ]
    },
    {
      "cell_type": "code",
      "source": [
        "X_squeeze=torch.squeeze(X)\n",
        "X_squeeze,X_squeeze.shape"
      ],
      "metadata": {
        "colab": {
          "base_uri": "https://localhost:8080/"
        },
        "id": "Zmy-qg0fok1U",
        "outputId": "d103dd18-b7bf-403d-e2fb-9a9725aca12c"
      },
      "execution_count": 75,
      "outputs": [
        {
          "output_type": "execute_result",
          "data": {
            "text/plain": [
              "(tensor([[0., 0., 0.],\n",
              "         [0., 0., 0.]]), torch.Size([2, 3]))"
            ]
          },
          "metadata": {},
          "execution_count": 75
        }
      ]
    },
    {
      "cell_type": "code",
      "source": [
        "X_unsqueeze=torch.unsqueeze(X,dim=0)\n",
        "X_unsqueeze,X_unsqueeze.shape"
      ],
      "metadata": {
        "colab": {
          "base_uri": "https://localhost:8080/"
        },
        "id": "FH2UjJRlqzxl",
        "outputId": "6ced0775-a2e8-4140-bca1-59da547cd28f"
      },
      "execution_count": 78,
      "outputs": [
        {
          "output_type": "execute_result",
          "data": {
            "text/plain": [
              "(tensor([[[0., 0., 0.],\n",
              "          [0., 0., 0.]]]), torch.Size([1, 2, 3]))"
            ]
          },
          "metadata": {},
          "execution_count": 78
        }
      ]
    },
    {
      "cell_type": "code",
      "source": [
        "# permute means rearange the order of the dimension \n",
        "x = torch.rand(size=(224, 224, 3))\n",
        "x_permuted = x.permute(2, 0, 1) \n",
        "# which means: we have (index0 = 224), (index1 = 224), (index2 = 3)\n",
        "#now it will (index0 = 3), (index1 = 224), (index2 = 224) so they are rearanged\n",
        "x.shape, x_permuted.shape"
      ],
      "metadata": {
        "colab": {
          "base_uri": "https://localhost:8080/"
        },
        "id": "d1i2eTqYsa-4",
        "outputId": "55504d93-1ded-4a42-8617-1bc653a504c7"
      },
      "execution_count": 79,
      "outputs": [
        {
          "output_type": "execute_result",
          "data": {
            "text/plain": [
              "(torch.Size([224, 224, 3]), torch.Size([3, 224, 224]))"
            ]
          },
          "metadata": {},
          "execution_count": 79
        }
      ]
    },
    {
      "cell_type": "markdown",
      "source": [
        "Permuting returns a view shares the same data as the original, the values in the permuted tensor will be the same as the original tensor they share the same memory so any change in the view the original values can saw it and vice versa.\n",
        "ex: [height, width, num of chanel] can become [num of chanel, height, width]"
      ],
      "metadata": {
        "id": "UQdbA7pHteLh"
      }
    },
    {
      "cell_type": "markdown",
      "source": [
        "**Indexing in Pytorch**\n",
        "\n",
        "* ***Note***: Similar to indexing in Numpy"
      ],
      "metadata": {
        "id": "hRTGUl0GwVgR"
      }
    },
    {
      "cell_type": "code",
      "source": [
        "x= torch.arange(1, 10).reshape(1, 3, 3)"
      ],
      "metadata": {
        "id": "EkIAac_bt09o"
      },
      "execution_count": 80,
      "outputs": []
    },
    {
      "cell_type": "code",
      "source": [
        "x"
      ],
      "metadata": {
        "colab": {
          "base_uri": "https://localhost:8080/"
        },
        "id": "E8ufVqDowzIc",
        "outputId": "e46152dd-e53c-4821-e910-5fe0551e7aa1"
      },
      "execution_count": 82,
      "outputs": [
        {
          "output_type": "execute_result",
          "data": {
            "text/plain": [
              "tensor([[[1, 2, 3],\n",
              "         [4, 5, 6],\n",
              "         [7, 8, 9]]])"
            ]
          },
          "metadata": {},
          "execution_count": 82
        }
      ]
    },
    {
      "cell_type": "code",
      "source": [
        "x[0][0][0]\n",
        "#0 tensor \n",
        "#0 array\n",
        "#0 element"
      ],
      "metadata": {
        "colab": {
          "base_uri": "https://localhost:8080/"
        },
        "id": "bXH6R-tmxvvf",
        "outputId": "a7b45fa4-8d80-46ec-fa37-10bafd94184e"
      },
      "execution_count": 86,
      "outputs": [
        {
          "output_type": "execute_result",
          "data": {
            "text/plain": [
              "tensor(1)"
            ]
          },
          "metadata": {},
          "execution_count": 86
        }
      ]
    },
    {
      "cell_type": "code",
      "source": [
        "x[0, 0, 0]\n"
      ],
      "metadata": {
        "colab": {
          "base_uri": "https://localhost:8080/"
        },
        "id": "i_uUDEWswtv9",
        "outputId": "d7d4b0cd-e437-4600-9c5b-fe26809e3d79"
      },
      "execution_count": 88,
      "outputs": [
        {
          "output_type": "execute_result",
          "data": {
            "text/plain": [
              "tensor(1)"
            ]
          },
          "metadata": {},
          "execution_count": 88
        }
      ]
    },
    {
      "cell_type": "code",
      "source": [
        "x[0, 1, 0]"
      ],
      "metadata": {
        "colab": {
          "base_uri": "https://localhost:8080/"
        },
        "id": "EECKn7FKyOLG",
        "outputId": "2d452a1d-b99f-4efe-eb93-0ce3915f2743"
      },
      "execution_count": 89,
      "outputs": [
        {
          "output_type": "execute_result",
          "data": {
            "text/plain": [
              "tensor(4)"
            ]
          },
          "metadata": {},
          "execution_count": 89
        }
      ]
    },
    {
      "cell_type": "code",
      "source": [
        "x[0, 1, 2]"
      ],
      "metadata": {
        "colab": {
          "base_uri": "https://localhost:8080/"
        },
        "id": "A50urWjlySEP",
        "outputId": "515d6cd4-8af0-4c36-9103-d1a09cbaff6f"
      },
      "execution_count": 90,
      "outputs": [
        {
          "output_type": "execute_result",
          "data": {
            "text/plain": [
              "tensor(6)"
            ]
          },
          "metadata": {},
          "execution_count": 90
        }
      ]
    },
    {
      "cell_type": "code",
      "source": [
        "x[:, 1, 2]"
      ],
      "metadata": {
        "colab": {
          "base_uri": "https://localhost:8080/"
        },
        "id": "EhIlhaJLyWSF",
        "outputId": "c97e7854-05fa-4a20-c6fe-b7b6999b02f6"
      },
      "execution_count": 91,
      "outputs": [
        {
          "output_type": "execute_result",
          "data": {
            "text/plain": [
              "tensor([6])"
            ]
          },
          "metadata": {},
          "execution_count": 91
        }
      ]
    },
    {
      "cell_type": "code",
      "source": [
        "x[:, : , 2]"
      ],
      "metadata": {
        "colab": {
          "base_uri": "https://localhost:8080/"
        },
        "id": "6vpF-Gc0yjbh",
        "outputId": "6da5a7d2-b6f3-408e-ab98-18dffac3256f"
      },
      "execution_count": 92,
      "outputs": [
        {
          "output_type": "execute_result",
          "data": {
            "text/plain": [
              "tensor([[3, 6, 9]])"
            ]
          },
          "metadata": {},
          "execution_count": 92
        }
      ]
    },
    {
      "cell_type": "code",
      "source": [
        "x[:1, :]"
      ],
      "metadata": {
        "colab": {
          "base_uri": "https://localhost:8080/"
        },
        "id": "xbFzTcHVxGwW",
        "outputId": "b7fea467-af14-483a-c1bd-27ee62ae3863"
      },
      "execution_count": 85,
      "outputs": [
        {
          "output_type": "execute_result",
          "data": {
            "text/plain": [
              "tensor([[[1, 2, 3],\n",
              "         [4, 5, 6],\n",
              "         [7, 8, 9]]])"
            ]
          },
          "metadata": {},
          "execution_count": 85
        }
      ]
    },
    {
      "cell_type": "markdown",
      "source": [
        "**NumPy array -> PyTorch**\n",
        "* torch.from_numpy(ndarray)\n",
        "\n",
        "**PyTorch tensor -> NumPy array**\n",
        "* torch.Tensor.numpy()"
      ],
      "metadata": {
        "id": "uLPIIeMrz_lM"
      }
    },
    {
      "cell_type": "code",
      "source": [
        "import numpy as np\n",
        "array = np.arange(0, 10)\n",
        "tensor = torch.from_numpy(array)\n",
        "array, tensor"
      ],
      "metadata": {
        "colab": {
          "base_uri": "https://localhost:8080/"
        },
        "id": "scms_J5V0_X9",
        "outputId": "c1318f0d-bd36-4608-f2f9-4cce02884a9f"
      },
      "execution_count": 93,
      "outputs": [
        {
          "output_type": "execute_result",
          "data": {
            "text/plain": [
              "(array([0, 1, 2, 3, 4, 5, 6, 7, 8, 9]), tensor([0, 1, 2, 3, 4, 5, 6, 7, 8, 9]))"
            ]
          },
          "metadata": {},
          "execution_count": 93
        }
      ]
    },
    {
      "cell_type": "markdown",
      "source": [
        "\n",
        "\n",
        "---\n",
        "To convert a NumPy array \n",
        "(float64) -> PyTorch tensor (float64) -> PyTorch tensor (float32), we should use tensor = torch.from_numpy(array).type(torch.float32)"
      ],
      "metadata": {
        "id": "dbGU8mba1U_m"
      }
    },
    {
      "cell_type": "markdown",
      "source": [
        "***Reproducibility Concept***"
      ],
      "metadata": {
        "id": "Qc87qcVt165f"
      }
    },
    {
      "cell_type": "code",
      "source": [
        "random_seed=42 #we use it to reduce the randomness to dont make it every time we run the cells generate new values \n",
        "torch.random.manual_seed(seed=random_seed)\n",
        "random_ten=torch.rand(2,3)\n",
        "random_ten"
      ],
      "metadata": {
        "colab": {
          "base_uri": "https://localhost:8080/"
        },
        "id": "RxvAmzB_3MMS",
        "outputId": "9c3111b6-a1b1-49c4-d444-8aacf772bc1d"
      },
      "execution_count": 96,
      "outputs": [
        {
          "output_type": "execute_result",
          "data": {
            "text/plain": [
              "tensor([[0.8823, 0.9150, 0.3829],\n",
              "        [0.9593, 0.3904, 0.6009]])"
            ]
          },
          "metadata": {},
          "execution_count": 96
        }
      ]
    }
  ]
}